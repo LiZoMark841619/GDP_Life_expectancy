{
 "cells": [
  {
   "cell_type": "code",
   "execution_count": 1,
   "metadata": {},
   "outputs": [],
   "source": [
    "import pandas as pd\n",
    "import numpy as np\n",
    "import matplotlib.pyplot as plt\n",
    "import seaborn as sns\n",
    "from scipy.stats import pearsonr"
   ]
  },
  {
   "cell_type": "code",
   "execution_count": 2,
   "metadata": {},
   "outputs": [],
   "source": [
    "data = pd.read_csv('all_data.csv')"
   ]
  },
  {
   "cell_type": "code",
   "execution_count": 3,
   "metadata": {},
   "outputs": [
    {
     "data": {
      "text/html": [
       "<div>\n",
       "<style scoped>\n",
       "    .dataframe tbody tr th:only-of-type {\n",
       "        vertical-align: middle;\n",
       "    }\n",
       "\n",
       "    .dataframe tbody tr th {\n",
       "        vertical-align: top;\n",
       "    }\n",
       "\n",
       "    .dataframe thead th {\n",
       "        text-align: right;\n",
       "    }\n",
       "</style>\n",
       "<table border=\"1\" class=\"dataframe\">\n",
       "  <thead>\n",
       "    <tr style=\"text-align: right;\">\n",
       "      <th></th>\n",
       "      <th>Country</th>\n",
       "      <th>Year</th>\n",
       "      <th>Life expectancy at birth (years)</th>\n",
       "      <th>GDP</th>\n",
       "    </tr>\n",
       "  </thead>\n",
       "  <tbody>\n",
       "    <tr>\n",
       "      <th>0</th>\n",
       "      <td>Chile</td>\n",
       "      <td>2000</td>\n",
       "      <td>77.3</td>\n",
       "      <td>7.786093e+10</td>\n",
       "    </tr>\n",
       "    <tr>\n",
       "      <th>1</th>\n",
       "      <td>Chile</td>\n",
       "      <td>2001</td>\n",
       "      <td>77.3</td>\n",
       "      <td>7.097992e+10</td>\n",
       "    </tr>\n",
       "    <tr>\n",
       "      <th>2</th>\n",
       "      <td>Chile</td>\n",
       "      <td>2002</td>\n",
       "      <td>77.8</td>\n",
       "      <td>6.973681e+10</td>\n",
       "    </tr>\n",
       "    <tr>\n",
       "      <th>3</th>\n",
       "      <td>Chile</td>\n",
       "      <td>2003</td>\n",
       "      <td>77.9</td>\n",
       "      <td>7.564346e+10</td>\n",
       "    </tr>\n",
       "    <tr>\n",
       "      <th>4</th>\n",
       "      <td>Chile</td>\n",
       "      <td>2004</td>\n",
       "      <td>78.0</td>\n",
       "      <td>9.921039e+10</td>\n",
       "    </tr>\n",
       "  </tbody>\n",
       "</table>\n",
       "</div>"
      ],
      "text/plain": [
       "  Country  Year  Life expectancy at birth (years)           GDP\n",
       "0   Chile  2000                              77.3  7.786093e+10\n",
       "1   Chile  2001                              77.3  7.097992e+10\n",
       "2   Chile  2002                              77.8  6.973681e+10\n",
       "3   Chile  2003                              77.9  7.564346e+10\n",
       "4   Chile  2004                              78.0  9.921039e+10"
      ]
     },
     "execution_count": 3,
     "metadata": {},
     "output_type": "execute_result"
    }
   ],
   "source": [
    "data.head()"
   ]
  },
  {
   "cell_type": "code",
   "execution_count": 4,
   "metadata": {},
   "outputs": [
    {
     "name": "stdout",
     "output_type": "stream",
     "text": [
      "<class 'pandas.core.frame.DataFrame'>\n",
      "RangeIndex: 96 entries, 0 to 95\n",
      "Data columns (total 4 columns):\n",
      " #   Column                            Non-Null Count  Dtype  \n",
      "---  ------                            --------------  -----  \n",
      " 0   Country                           96 non-null     object \n",
      " 1   Year                              96 non-null     int64  \n",
      " 2   Life expectancy at birth (years)  96 non-null     float64\n",
      " 3   GDP                               96 non-null     float64\n",
      "dtypes: float64(2), int64(1), object(1)\n",
      "memory usage: 3.1+ KB\n"
     ]
    }
   ],
   "source": [
    "data.info()"
   ]
  },
  {
   "cell_type": "code",
   "execution_count": 5,
   "metadata": {},
   "outputs": [],
   "source": [
    "data.columns = ['Country', 'Year', 'Life_expectancy', 'GDP']"
   ]
  },
  {
   "cell_type": "code",
   "execution_count": 6,
   "metadata": {},
   "outputs": [],
   "source": [
    "data.GDP = data.GDP/1000000000"
   ]
  },
  {
   "cell_type": "code",
   "execution_count": 7,
   "metadata": {},
   "outputs": [
    {
     "data": {
      "text/html": [
       "<div>\n",
       "<style scoped>\n",
       "    .dataframe tbody tr th:only-of-type {\n",
       "        vertical-align: middle;\n",
       "    }\n",
       "\n",
       "    .dataframe tbody tr th {\n",
       "        vertical-align: top;\n",
       "    }\n",
       "\n",
       "    .dataframe thead th {\n",
       "        text-align: right;\n",
       "    }\n",
       "</style>\n",
       "<table border=\"1\" class=\"dataframe\">\n",
       "  <thead>\n",
       "    <tr style=\"text-align: right;\">\n",
       "      <th></th>\n",
       "      <th>Country</th>\n",
       "      <th>Year</th>\n",
       "      <th>Life_expectancy</th>\n",
       "      <th>GDP</th>\n",
       "    </tr>\n",
       "  </thead>\n",
       "  <tbody>\n",
       "    <tr>\n",
       "      <th>0</th>\n",
       "      <td>Chile</td>\n",
       "      <td>2000</td>\n",
       "      <td>77.3</td>\n",
       "      <td>77.860932</td>\n",
       "    </tr>\n",
       "    <tr>\n",
       "      <th>1</th>\n",
       "      <td>Chile</td>\n",
       "      <td>2001</td>\n",
       "      <td>77.3</td>\n",
       "      <td>70.979924</td>\n",
       "    </tr>\n",
       "    <tr>\n",
       "      <th>2</th>\n",
       "      <td>Chile</td>\n",
       "      <td>2002</td>\n",
       "      <td>77.8</td>\n",
       "      <td>69.736811</td>\n",
       "    </tr>\n",
       "    <tr>\n",
       "      <th>3</th>\n",
       "      <td>Chile</td>\n",
       "      <td>2003</td>\n",
       "      <td>77.9</td>\n",
       "      <td>75.643460</td>\n",
       "    </tr>\n",
       "    <tr>\n",
       "      <th>4</th>\n",
       "      <td>Chile</td>\n",
       "      <td>2004</td>\n",
       "      <td>78.0</td>\n",
       "      <td>99.210393</td>\n",
       "    </tr>\n",
       "  </tbody>\n",
       "</table>\n",
       "</div>"
      ],
      "text/plain": [
       "  Country  Year  Life_expectancy        GDP\n",
       "0   Chile  2000             77.3  77.860932\n",
       "1   Chile  2001             77.3  70.979924\n",
       "2   Chile  2002             77.8  69.736811\n",
       "3   Chile  2003             77.9  75.643460\n",
       "4   Chile  2004             78.0  99.210393"
      ]
     },
     "execution_count": 7,
     "metadata": {},
     "output_type": "execute_result"
    }
   ],
   "source": [
    "data.head()"
   ]
  },
  {
   "cell_type": "code",
   "execution_count": 8,
   "metadata": {},
   "outputs": [
    {
     "name": "stdout",
     "output_type": "stream",
     "text": [
      "There are 6 countries in the sample and these are as follows:\n",
      "['Chile' 'China' 'Germany' 'Mexico' 'United States of America' 'Zimbabwe']\n"
     ]
    }
   ],
   "source": [
    "print(f'''There are {data.Country.nunique()} countries in the sample and these are as follows:\n",
    "{data.Country.unique()}''')"
   ]
  },
  {
   "cell_type": "code",
   "execution_count": 9,
   "metadata": {},
   "outputs": [],
   "source": [
    "data.Country.replace('United States of America', 'USA', inplace=True)"
   ]
  },
  {
   "cell_type": "code",
   "execution_count": 10,
   "metadata": {},
   "outputs": [],
   "source": [
    "#data.Country.unique()"
   ]
  },
  {
   "cell_type": "code",
   "execution_count": 11,
   "metadata": {},
   "outputs": [
    {
     "name": "stdout",
     "output_type": "stream",
     "text": [
      "The analysis starts from 2000 and ends at 2015 meaning that the dataset\n",
      "is including 16 consecutive years of GDP and Life expectancy data.\n"
     ]
    }
   ],
   "source": [
    "print(f'''The analysis starts from {np.min(data.Year)} and ends at {np.max(data.Year)} meaning that the dataset\n",
    "is including {data.Year.nunique()} consecutive years of GDP and Life expectancy data.''')"
   ]
  },
  {
   "cell_type": "code",
   "execution_count": 12,
   "metadata": {},
   "outputs": [
    {
     "name": "stdout",
     "output_type": "stream",
     "text": [
      "0    77.860932\n",
      "1    70.979924\n",
      "2    69.736811\n",
      "3    75.643460\n",
      "4    99.210393\n",
      "Name: GDP, dtype: float64\n"
     ]
    }
   ],
   "source": [
    "print(data.GDP.head())"
   ]
  },
  {
   "cell_type": "code",
   "execution_count": 13,
   "metadata": {},
   "outputs": [
    {
     "data": {
      "image/png": "[encoded data removed]",
      "text/plain": [
       "<Figure size 1000x500 with 2 Axes>"
      ]
     },
     "metadata": {},
     "output_type": "display_data"
    },
    {
     "data": {
      "text/plain": [
       "<Figure size 640x480 with 0 Axes>"
      ]
     },
     "metadata": {},
     "output_type": "display_data"
    }
   ],
   "source": [
    "plt.figure(figsize=[10,5])\n",
    "plt.subplot(1,2,1)\n",
    "sns.barplot(x='Country', y='GDP', data=data[data.Year == 2000], palette='Spectral')\n",
    "plt.title('Countries and GDP-s in 2000', fontsize=9)\n",
    "plt.xticks(rotation=30)\n",
    "plt.xlabel('Countries', fontsize=8)\n",
    "plt.ylabel('GDP (billion dollars)', fontsize=8)\n",
    "plt.subplot(1,2,2)\n",
    "sns.barplot(x='Country', y='GDP', data=data[data.Year == 2015], palette='Spectral')\n",
    "plt.title('Countries and GDP-s in 2015', fontsize=9)\n",
    "plt.xticks(rotation=30)\n",
    "plt.xlabel('Countries', fontsize=8)\n",
    "plt.ylabel('GDP (billion dollars)', fontsize=8)\n",
    "plt.subplots_adjust(wspace=0.4)\n",
    "plt.show()\n",
    "plt.clf()"
   ]
  },
  {
   "cell_type": "code",
   "execution_count": 14,
   "metadata": {},
   "outputs": [
    {
     "data": {
      "image/png": "[encoded data removed]",
      "text/plain": [
       "<Figure size 1000x500 with 2 Axes>"
      ]
     },
     "metadata": {},
     "output_type": "display_data"
    },
    {
     "data": {
      "text/plain": [
       "<Figure size 640x480 with 0 Axes>"
      ]
     },
     "metadata": {},
     "output_type": "display_data"
    }
   ],
   "source": [
    "plt.figure(figsize=[10,5])\n",
    "plt.subplot(1,2,1)\n",
    "sns.barplot(x='Country', y='Life_expectancy', data=data[data.Year == 2000], palette='rocket')\n",
    "plt.title('Countries and Life expectancy in 2000', fontsize=9)\n",
    "plt.xticks(rotation=30)\n",
    "plt.xlabel('Countries', fontsize=8)\n",
    "plt.ylabel('Expected age (years)', fontsize=8)\n",
    "plt.ylim([np.min(data.Life_expectancy), np.max(data.Life_expectancy)])\n",
    "plt.subplot(1,2,2)\n",
    "sns.barplot(x='Country', y='Life_expectancy', data=data[data.Year == 2015], palette='rocket')\n",
    "plt.title('Countries and Life expectancy in 2015', fontsize=9)\n",
    "plt.xticks(rotation=30)\n",
    "plt.xlabel('Countries', fontsize=8)\n",
    "plt.ylabel('Expected age (years)', fontsize=8)\n",
    "plt.ylim([np.min(data.Life_expectancy), np.max(data.Life_expectancy)])\n",
    "plt.subplots_adjust(wspace=0.4)\n",
    "plt.show()\n",
    "plt.clf()"
   ]
  },
  {
   "cell_type": "code",
   "execution_count": null,
   "metadata": {},
   "outputs": [],
   "source": [
    "plt.figure(figsize=[10, 5])\n",
    "plt.subplot(1,2,1)\n",
    "sns.scatterplot(x='Year', y='GDP', hue='Country', data=data)\n",
    "plt.title(f'GDP over {data.Year.nunique()} years in {data.Country.nunique()} countries', fontsize=9)\n",
    "plt.xlabel('Year', fontsize=8)\n",
    "plt.ylabel('GDP (billion dollars)', fontsize=8)\n",
    "plt.subplot(1,2,2)\n",
    "sns.scatterplot(x='Year', y='Life_expectancy', hue='Country', data=data)\n",
    "plt.title(f'Life expectancy over {data.Year.nunique()} years in {data.Country.nunique()} countries', fontsize=9)\n",
    "plt.xlabel('Year', fontsize=9)\n",
    "plt.ylabel('Expected age (years)', fontsize=9)\n",
    "plt.ylim([np.min(data.Life_expectancy)+5, np.max(data.Life_expectancy)+5])\n",
    "plt.subplots_adjust(wspace=0.4)\n",
    "plt.show()\n",
    "plt.clf()"
   ]
  },
  {
   "cell_type": "code",
   "execution_count": null,
   "metadata": {},
   "outputs": [],
   "source": [
    "filt_chile = data[data.Country == 'Chile']\n",
    "filt_china = data[data.Country == 'China']\n",
    "filt_ger = data[data.Country == 'Germany']\n",
    "filt_mex = data[data.Country == 'Mexico']\n",
    "filt_usa = data[data.Country == 'USA']\n",
    "filt_zimb = data[data.Country == 'Zimbabwe']"
   ]
  },
  {
   "cell_type": "code",
   "execution_count": null,
   "metadata": {},
   "outputs": [],
   "source": [
    "plt.figure(figsize=[10, 15])\n",
    "plt.subplot(3,2,1)\n",
    "sns.scatterplot(x='GDP', y='Life_expectancy', data=filt_chile)\n",
    "plt.title(f'GDP and Life expectancy in {filt_chile.Country.unique()}', fontsize=10)\n",
    "plt.xlabel('GDP (billion dollars)', fontsize=9)\n",
    "plt.ylabel('Expected age (years)')\n",
    "plt.subplot(3,2,2)\n",
    "sns.scatterplot(x='GDP', y='Life_expectancy', data=filt_china)\n",
    "plt.title(f'GDP and Life expectancy in {filt_china.Country.unique()}', fontsize=10)\n",
    "plt.xlabel('GDP (billion dollars)', fontsize=9)\n",
    "plt.ylabel('Expected age (years)')\n",
    "plt.subplot(3,2,3)\n",
    "sns.scatterplot(x='GDP', y='Life_expectancy', data=filt_ger)\n",
    "plt.title(f'GDP and Life expectancy in {filt_ger.Country.unique()}', fontsize=10)\n",
    "plt.xlabel('GDP (billion dollars)', fontsize=9)\n",
    "plt.ylabel('Expected age (years)')\n",
    "plt.subplot(3,2,4)\n",
    "sns.scatterplot(x='GDP', y='Life_expectancy', data=filt_mex)\n",
    "plt.title(f'GDP and Life expectancy in {filt_mex.Country.unique()}', fontsize=10)\n",
    "plt.xlabel('GDP (billion dollars)', fontsize=9)\n",
    "plt.ylabel('Expected age (years)')\n",
    "plt.subplot(3,2,5)\n",
    "sns.scatterplot(x='GDP', y='Life_expectancy', data=filt_usa)\n",
    "plt.title(f'GDP and Life expectancy in {filt_usa.Country.unique()}', fontsize=10)\n",
    "plt.xlabel('GDP (billion dollars)', fontsize=9)\n",
    "plt.ylabel('Expected age (years)')\n",
    "plt.subplot(3,2,6)\n",
    "sns.scatterplot(x='GDP', y='Life_expectancy', data=filt_zimb)\n",
    "plt.title(f'GDP and Life expectancy in {filt_zimb.Country.unique()}', fontsize=10)\n",
    "plt.xlabel('GDP (billion dollars)', fontsize=9)\n",
    "plt.ylabel('Expected age (years)')\n",
    "plt.subplots_adjust(wspace=0.4, hspace=0.4)\n",
    "plt.show()\n",
    "plt.clf()"
   ]
  },
  {
   "cell_type": "code",
   "execution_count": null,
   "metadata": {},
   "outputs": [],
   "source": [
    "corr1, r1 = pearsonr(filt_usa.GDP, filt_usa.Life_expectancy)"
   ]
  },
  {
   "cell_type": "code",
   "execution_count": null,
   "metadata": {},
   "outputs": [],
   "source": [
    "print(f'''There is a strong positive relationship between the GDP and Life expectancy in the USA according to this plot.\n",
    "The correlation quotient is {corr1}.''')"
   ]
  },
  {
   "cell_type": "code",
   "execution_count": null,
   "metadata": {},
   "outputs": [],
   "source": [
    "corr_all, r_all = pearsonr(data.GDP, data.Life_expectancy)"
   ]
  },
  {
   "cell_type": "code",
   "execution_count": null,
   "metadata": {},
   "outputs": [],
   "source": [
    "print(f'''If we analyse the 6 countries there is also a positive linear relationship between the GDP and Life expectancy,\n",
    "because the correlation quotient is {corr_all}.''')"
   ]
  },
  {
   "cell_type": "code",
   "execution_count": null,
   "metadata": {},
   "outputs": [],
   "source": [
    "np.mean(filt_chile.Life_expectancy)\n"
   ]
  },
  {
   "cell_type": "code",
   "execution_count": null,
   "metadata": {},
   "outputs": [],
   "source": [
    "np.mean(filt_china.Life_expectancy)"
   ]
  },
  {
   "cell_type": "code",
   "execution_count": null,
   "metadata": {},
   "outputs": [],
   "source": [
    "np.mean(filt_ger.Life_expectancy)"
   ]
  },
  {
   "cell_type": "code",
   "execution_count": null,
   "metadata": {},
   "outputs": [],
   "source": [
    "np.mean(filt_mex.Life_expectancy)"
   ]
  },
  {
   "cell_type": "code",
   "execution_count": null,
   "metadata": {},
   "outputs": [],
   "source": [
    "np.mean(filt_usa.Life_expectancy)"
   ]
  },
  {
   "cell_type": "code",
   "execution_count": null,
   "metadata": {},
   "outputs": [],
   "source": [
    "np.mean(filt_zimb.Life_expectancy)"
   ]
  },
  {
   "cell_type": "code",
   "execution_count": null,
   "metadata": {},
   "outputs": [],
   "source": [
    "sns.displot(data.Life_expectancy, kde=True, color='darkblue')\n",
    "plt.title(f'Life expectancy in {data.Country.nunique()} countries in {data.Year.nunique()} years', fontsize = 9)\n",
    "plt.show()\n",
    "plt.clf()"
   ]
  },
  {
   "cell_type": "code",
   "execution_count": null,
   "metadata": {},
   "outputs": [],
   "source": [
    "print('''Conclusions:\n",
    "      \n",
    "1. There is a positive relationship between GDP and Life expectancy of one country, meaning that\n",
    "if the annual GDP grows, the expected age at birth will be also increasing regardless the country is\n",
    "developed or developing.\n",
    "2. The average expected ages are very close to each other of every nations in the sample except Zimbabwe.\n",
    "3. Both the annual GDP and the Life expectancy have increased during the overall period under examination.\n",
    "4. There are 2 significant increasings/outliers in the sample. The first one is the GDP of China, the second one\n",
    "is the Life expectancy in Zimbabwe.''')"
   ]
  },
  {
   "cell_type": "code",
   "execution_count": null,
   "metadata": {},
   "outputs": [],
   "source": []
  }
 ],
 "metadata": {
  "kernelspec": {
   "display_name": "Python 3 (ipykernel)",
   "language": "python",
   "name": "python3"
  },
  "language_info": {
   "codemirror_mode": {
    "name": "ipython",
    "version": 3
   },
   "file_extension": ".py",
   "mimetype": "text/x-python",
   "name": "python",
   "nbconvert_exporter": "python",
   "pygments_lexer": "ipython3",
   "version": "3.10.9"
  }
 },
 "nbformat": 4,
 "nbformat_minor": 4
}
