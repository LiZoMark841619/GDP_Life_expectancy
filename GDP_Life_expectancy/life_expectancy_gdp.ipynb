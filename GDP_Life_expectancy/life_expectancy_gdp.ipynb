{
 "cells": [
  {
   "cell_type": "code",
   "execution_count": 1,
   "metadata": {},
   "outputs": [],
   "source": [
    "import time\n",
    "import math"
   ]
  },
  {
   "cell_type": "code",
   "execution_count": 4,
   "metadata": {},
   "outputs": [],
   "source": [
    "def get_a_list(length_of_list: int, min_value: int, max_value: int) -> list:\n",
    "    while True:\n",
    "        try:\n",
    "            values = list(map(int, input().split()))\n",
    "            if len(values) != length_of_list:\n",
    "                print(f'Invalid number of elements! It must contain {length_of_list} values! Try again!')\n",
    "                continue\n",
    "            else:\n",
    "                for value in values:\n",
    "                    idx = values.index(value)\n",
    "                    if value not in range(min_value, max_value+1):\n",
    "                        while True:\n",
    "                            new_value = int(input(f'Enter a new value from {min_value} and {max_value} instead of {value}! '))\n",
    "                            if new_value in range(min_value, max_value+1):\n",
    "                                values[idx] = new_value\n",
    "                                break\n",
    "                return values\n",
    "        except ValueError: print('ValueError! Only integer is allowed! ')"
   ]
  },
  {
   "cell_type": "code",
   "execution_count": 2,
   "metadata": {},
   "outputs": [],
   "source": []
  },
  {
   "cell_type": "code",
   "execution_count": 6,
   "metadata": {},
   "outputs": [
    {
     "name": "stdout",
     "output_type": "stream",
     "text": [
      "ValueError! Only integer is allowed! \n",
      "Invalid number of elements of the list! It must contain 3 values! Try again!\n"
     ]
    },
    {
     "data": {
      "text/plain": [
       "[10, 8, 6]"
      ]
     },
     "execution_count": 6,
     "metadata": {},
     "output_type": "execute_result"
    }
   ],
   "source": [
    "get_a_list(length_of_list=3, min_value=1, max_value=10)"
   ]
  },
  {
   "cell_type": "code",
   "execution_count": 114,
   "metadata": {},
   "outputs": [],
   "source": [
    "import calendar"
   ]
  },
  {
   "cell_type": "code",
   "execution_count": null,
   "metadata": {},
   "outputs": [],
   "source": [
    "if __name__ == '__main__':\n",
    "    while True:\n",
    "        n, m = map(int, input().split())\n",
    "        if n and m in range(1, 1001):\n",
    "            break\n",
    "            \n",
    "    arr = []\n",
    "    for _ in range(n):\n",
    "        result = []\n",
    "        while True:\n",
    "            if len(result) == m:\n",
    "                break\n",
    "            for value in map(int, input().split()):\n",
    "                if value not in range(0, 1001):\n",
    "                    continue\n",
    "                result.append(value)\n",
    "            \n",
    "        arr.append(result)\n",
    "    \n",
    "    while True:\n",
    "        k = int(input())\n",
    "        if k in range(0, m):\n",
    "            break\n",
    "    \n",
    "    first_trial = [value[k] for value in arr]\n",
    "    first_trial.sort()\n",
    "    \n",
    "    for value in first_trial:\n",
    "        for val in arr:\n",
    "            if value == val[k]:\n",
    "                print(*val)"
   ]
  },
  {
   "cell_type": "code",
   "execution_count": 151,
   "metadata": {},
   "outputs": [],
   "source": [
    "from itertools import product"
   ]
  },
  {
   "cell_type": "code",
   "execution_count": null,
   "metadata": {},
   "outputs": [],
   "source": [
    "\n",
    "def get_valid_number(min_value: int, max_value: int) -> int:\n",
    "    while True:\n",
    "        try:\n",
    "            value = int(input())\n",
    "            if value in range(min_value, max_value+1):\n",
    "                return value\n",
    "        except ValueError:\n",
    "            print('Invalid value! Only integer is allowed! ')\n",
    "\n",
    "\n",
    "if __name__ == '__main__':\n",
    "    N = get_valid_number(0, 100)\n",
    "    X = get_valid_number(0, 100)\n",
    "    for _ in range(X):\n",
    "        grades = []\n",
    "        while len(grades) != N:\n",
    "            grades.extend(map(int, input().split()))\n",
    "        print(f'{sum(grades)/len(grades):.f}')"
   ]
  },
  {
   "cell_type": "code",
   "execution_count": null,
   "metadata": {},
   "outputs": [],
   "source": [
    "list(product([1, 2, 3], 'SHCD'))"
   ]
  },
  {
   "cell_type": "code",
   "execution_count": 143,
   "metadata": {},
   "outputs": [],
   "source": [
    "date_year_month_day = input().split()\n",
    "day, month, year = date_year_month_day\n",
    "if day in ['0'+str(i) for i in range(1, 10)]:\n",
    "    day == day[-1]\n",
    "elif month in ['0'+str(i) for i in range(1, 10)]:\n",
    "    month == month[-1]"
   ]
  },
  {
   "cell_type": "code",
   "execution_count": null,
   "metadata": {},
   "outputs": [],
   "source": [
    "calendar.TextCalendar(firstweekday=7).prmonth(int(year), int(month))"
   ]
  },
  {
   "cell_type": "code",
   "execution_count": 145,
   "metadata": {},
   "outputs": [],
   "source": [
    "days = dict(enumerate(['Monday', 'Tuesday', 'Wednesday', 'Thursday', 'Friday', 'Saturday', 'Sunday']))"
   ]
  },
  {
   "cell_type": "code",
   "execution_count": null,
   "metadata": {},
   "outputs": [],
   "source": [
    "days"
   ]
  },
  {
   "cell_type": "code",
   "execution_count": 147,
   "metadata": {},
   "outputs": [],
   "source": [
    "days = {k+1:v for k, v in days.items()}"
   ]
  },
  {
   "cell_type": "code",
   "execution_count": null,
   "metadata": {},
   "outputs": [],
   "source": [
    "days"
   ]
  },
  {
   "cell_type": "code",
   "execution_count": null,
   "metadata": {},
   "outputs": [],
   "source": [
    "days"
   ]
  },
  {
   "cell_type": "code",
   "execution_count": null,
   "metadata": {},
   "outputs": [],
   "source": [
    "counter = 0\n",
    "for val in calendar.TextCalendar(firstweekday=7).monthdatescalendar(int(year), int(month)):\n",
    "    for value in val:\n",
    "        counter += 1\n",
    "        value = str(value)\n",
    "        if value[5:7] == month and value[-2:] == day:\n",
    "            print(value)\n",
    "            print(counter)\n",
    "            print(counter%7)\n",
    "            print(days[counter%7])"
   ]
  },
  {
   "cell_type": "code",
   "execution_count": null,
   "metadata": {},
   "outputs": [],
   "source": [
    "help(calendar)"
   ]
  },
  {
   "cell_type": "code",
   "execution_count": null,
   "metadata": {},
   "outputs": [],
   "source": [
    "from string import ascii_letters\n",
    "\n",
    "alphabet = ascii_letters\n",
    "vowels = 'aeiou'\n",
    "consonants = [char for char in alphabet if char not in vowels]"
   ]
  },
  {
   "cell_type": "code",
   "execution_count": 68,
   "metadata": {},
   "outputs": [],
   "source": [
    "def return_word(some_string: str, vowels_or_consonants) -> str:\n",
    "    counter = 0\n",
    "    while True:\n",
    "        if some_string[counter] in vowels_or_consonants:\n",
    "            return some_string[counter:]\n",
    "        counter += 1"
   ]
  },
  {
   "cell_type": "code",
   "execution_count": 69,
   "metadata": {},
   "outputs": [],
   "source": [
    "s = input()\n",
    "Kevin = return_word(s, vowels)\n",
    "Stuart = return_word(s, consonants)"
   ]
  },
  {
   "cell_type": "code",
   "execution_count": null,
   "metadata": {},
   "outputs": [],
   "source": [
    "Kevin, Stuart"
   ]
  },
  {
   "cell_type": "code",
   "execution_count": null,
   "metadata": {},
   "outputs": [],
   "source": [
    "setA = {1, 2, 3}\n",
    "setB = {2, 3, 4}\n",
    "print(setA & setB)"
   ]
  },
  {
   "cell_type": "code",
   "execution_count": 2,
   "metadata": {},
   "outputs": [],
   "source": [
    "num = int(input())"
   ]
  },
  {
   "cell_type": "code",
   "execution_count": 3,
   "metadata": {},
   "outputs": [],
   "source": [
    "start = time.time()"
   ]
  },
  {
   "cell_type": "code",
   "execution_count": null,
   "metadata": {},
   "outputs": [],
   "source": []
  },
  {
   "cell_type": "code",
   "execution_count": null,
   "metadata": {},
   "outputs": [],
   "source": []
  },
  {
   "cell_type": "code",
   "execution_count": null,
   "metadata": {},
   "outputs": [],
   "source": []
  },
  {
   "cell_type": "code",
   "execution_count": null,
   "metadata": {},
   "outputs": [],
   "source": [
    "aa"
   ]
  },
  {
   "cell_type": "code",
   "execution_count": null,
   "metadata": {},
   "outputs": [],
   "source": [
    "products = 1\n",
    "while math.factorial(products) <= num:\n",
    "    products += 1\n",
    "print(products)"
   ]
  },
  {
   "cell_type": "code",
   "execution_count": null,
   "metadata": {},
   "outputs": [],
   "source": [
    "print(time.time() - start)"
   ]
  },
  {
   "cell_type": "code",
   "execution_count": 6,
   "metadata": {},
   "outputs": [],
   "source": [
    "start_again = time.time()"
   ]
  },
  {
   "cell_type": "code",
   "execution_count": null,
   "metadata": {},
   "outputs": [],
   "source": [
    "counter, result = 1, 1\n",
    "while counter:\n",
    "    result *= counter\n",
    "    if result > num:\n",
    "        break\n",
    "    counter += 1\n",
    "print(counter)"
   ]
  },
  {
   "cell_type": "code",
   "execution_count": null,
   "metadata": {},
   "outputs": [],
   "source": [
    "print(time.time() - start_again)"
   ]
  },
  {
   "cell_type": "code",
   "execution_count": 9,
   "metadata": {},
   "outputs": [],
   "source": [
    "import pandas as pd\n",
    "import numpy as np\n",
    "import matplotlib.pyplot as plt\n",
    "import seaborn as sns\n",
    "from scipy.stats import pearsonr"
   ]
  },
  {
   "cell_type": "code",
   "execution_count": 10,
   "metadata": {},
   "outputs": [],
   "source": [
    "data = pd.read_csv('all_data.csv')"
   ]
  },
  {
   "cell_type": "code",
   "execution_count": null,
   "metadata": {},
   "outputs": [],
   "source": [
    "data.count()"
   ]
  },
  {
   "cell_type": "code",
   "execution_count": null,
   "metadata": {},
   "outputs": [],
   "source": [
    "maxrows = data.Country.count()\n",
    "print('Missing Data %')\n",
    "a = pd.DataFrame(1 - data.count()/maxrows).reset_index()"
   ]
  },
  {
   "cell_type": "code",
   "execution_count": null,
   "metadata": {},
   "outputs": [],
   "source": [
    "data.head()"
   ]
  },
  {
   "cell_type": "code",
   "execution_count": 14,
   "metadata": {},
   "outputs": [],
   "source": [
    "data.columns = ['Country1', 'Year', 'Life_expectancy1', 'GDP']"
   ]
  },
  {
   "cell_type": "code",
   "execution_count": null,
   "metadata": {},
   "outputs": [],
   "source": [
    "data.index"
   ]
  },
  {
   "cell_type": "code",
   "execution_count": 16,
   "metadata": {},
   "outputs": [],
   "source": [
    "data = data.rename({'Country1':'Country', 'Life_expectancy1':'Life_expectancy'}, axis=1)"
   ]
  },
  {
   "cell_type": "code",
   "execution_count": null,
   "metadata": {},
   "outputs": [],
   "source": [
    "data.columns"
   ]
  },
  {
   "cell_type": "code",
   "execution_count": null,
   "metadata": {},
   "outputs": [],
   "source": [
    "data.dtypes"
   ]
  },
  {
   "cell_type": "code",
   "execution_count": null,
   "metadata": {},
   "outputs": [],
   "source": [
    "data.info()"
   ]
  },
  {
   "cell_type": "code",
   "execution_count": 20,
   "metadata": {},
   "outputs": [],
   "source": [
    "data.GDP = data.GDP/1000000000"
   ]
  },
  {
   "cell_type": "code",
   "execution_count": null,
   "metadata": {},
   "outputs": [],
   "source": [
    "data.head()"
   ]
  },
  {
   "cell_type": "code",
   "execution_count": null,
   "metadata": {},
   "outputs": [],
   "source": [
    "print(f'''There are {data.Country.nunique()} countries in the sample and these are as follows:\n",
    "{data.Country.unique()}''')"
   ]
  },
  {
   "cell_type": "code",
   "execution_count": 23,
   "metadata": {},
   "outputs": [],
   "source": [
    "data.Country.replace('United States of America', 'USA', inplace=True)"
   ]
  },
  {
   "cell_type": "code",
   "execution_count": 24,
   "metadata": {},
   "outputs": [],
   "source": [
    "#data.Country.unique()"
   ]
  },
  {
   "cell_type": "code",
   "execution_count": null,
   "metadata": {},
   "outputs": [],
   "source": [
    "print(f'''The analysis starts from {np.min(data.Year)} and ends at {np.max(data.Year)} meaning that the dataset\n",
    "is including {data.Year.nunique()} consecutive years of GDP and Life expectancy data.''')"
   ]
  },
  {
   "cell_type": "code",
   "execution_count": null,
   "metadata": {},
   "outputs": [],
   "source": [
    "print(data.GDP.head())"
   ]
  },
  {
   "cell_type": "code",
   "execution_count": null,
   "metadata": {},
   "outputs": [],
   "source": [
    "plt.figure(figsize=[12, 6])\n",
    "plt.subplot(1,2,1)\n",
    "sns.barplot(x='Country', y='GDP', data=data[data.Year == np.min(data.Year)], palette='Spectral')\n",
    "plt.title(f'Countries and GDP-s in year {np.min(data.Year)}', fontsize=12)\n",
    "plt.xticks(rotation=30)\n",
    "plt.xlabel('Countries', fontsize=10)\n",
    "plt.ylabel('GDP (billion dollars)', fontsize=10)\n",
    "plt.subplot(1,2,2)\n",
    "sns.barplot(x='Country', y='GDP', data=data[data.Year == np.max(data.Year)], palette='Spectral')\n",
    "plt.title(f'Countries and GDP-s in year {np.max(data.Year)}', fontsize=11)\n",
    "plt.xticks(rotation=30)\n",
    "plt.xlabel('Countries', fontsize=10)\n",
    "plt.ylabel('GDP (billion dollars)', fontsize=10)\n",
    "plt.subplots_adjust(wspace=0.4)\n",
    "plt.show()\n",
    "plt.clf()"
   ]
  },
  {
   "cell_type": "code",
   "execution_count": null,
   "metadata": {},
   "outputs": [],
   "source": [
    "plt.figure(figsize=[12, 6])\n",
    "plt.subplot(1,2,1)\n",
    "sns.barplot(x='Country', y='Life_expectancy', data=data[data.Year == np.min(data.Year)], palette='rocket')\n",
    "plt.title(f'Countries and Life expectancy in {np.min(data.Year)}', fontsize=12)\n",
    "plt.xticks(rotation=30)\n",
    "plt.xlabel('Countries', fontsize=10)\n",
    "plt.ylabel('Expected age (years)', fontsize=10)\n",
    "plt.ylim([np.min(data.Life_expectancy), np.max(data.Life_expectancy)])\n",
    "plt.subplot(1,2,2)\n",
    "sns.barplot(x='Country', y='Life_expectancy', data=data[data.Year == np.max(data.Year)], palette='rocket')\n",
    "plt.title(f'Countries and Life expectancy in {np.max(data.Year)}', fontsize=12)\n",
    "plt.xticks(rotation=30)\n",
    "plt.xlabel('Countries', fontsize=10)\n",
    "plt.ylabel('Expected age (years)', fontsize=10)\n",
    "plt.ylim([np.min(data.Life_expectancy), np.max(data.Life_expectancy)])\n",
    "plt.subplots_adjust(wspace=0.4)\n",
    "plt.show()\n",
    "plt.clf()"
   ]
  },
  {
   "cell_type": "code",
   "execution_count": null,
   "metadata": {},
   "outputs": [],
   "source": [
    "plt.figure(figsize=[12, 6])\n",
    "plt.subplot(1,2,1)\n",
    "sns.lineplot(x='Year', y='GDP', hue='Country', data=data)\n",
    "plt.title(f'GDP over {data.Year.nunique()} years in {data.Country.nunique()} countries')\n",
    "plt.xlabel('Year')\n",
    "plt.ylabel('GDP (billion dollars)')\n",
    "xtick_val = [1998, 2002, 2006, 2010, 2014]\n",
    "ytick_val = [0, 2500, 7500, 12500, 17500]\n",
    "plt.xticks(xtick_val, rotation=25)\n",
    "plt.yticks(ytick_val)\n",
    "plt.subplot(1,2,2)\n",
    "sns.lineplot(x='Year', y='Life_expectancy', hue='Country', data=data)\n",
    "plt.title(f'Life expectancy over {data.Year.nunique()} years in {data.Country.nunique()} countries')\n",
    "plt.xlabel('Year', fontsize=10)\n",
    "plt.ylabel('Expected age (years)')\n",
    "xtick_val = [1998, 2002, 2006, 2010, 2014]\n",
    "ytick_val = [50, 60, 70, 80]\n",
    "plt.xticks(xtick_val, rotation=25)\n",
    "plt.yticks(ytick_val)\n",
    "plt.subplots_adjust(wspace=0.2)\n",
    "plt.show()\n",
    "plt.clf()"
   ]
  },
  {
   "cell_type": "code",
   "execution_count": 30,
   "metadata": {},
   "outputs": [],
   "source": [
    "chile = data[data.Country == 'Chile']\n",
    "china = data[data.Country == 'China']\n",
    "ger = data[data.Country == 'Germany']\n",
    "mex = data[data.Country == 'Mexico']\n",
    "usa = data[data.Country == 'USA']\n",
    "zimb = data[data.Country == 'Zimbabwe']"
   ]
  },
  {
   "cell_type": "code",
   "execution_count": null,
   "metadata": {},
   "outputs": [],
   "source": [
    "plt.figure(figsize=[12, 18])\n",
    "\n",
    "plt.subplot(3,2,1)\n",
    "sns.scatterplot(x='GDP', y='Life_expectancy', data=chile)\n",
    "plt.title(f'GDP (bn $) and Life expectancy (yrs) in {chile.Country.unique()}', fontsize=10)\n",
    "\n",
    "plt.subplot(3,2,2)\n",
    "sns.scatterplot(x='GDP', y='Life_expectancy', data=china)\n",
    "plt.title(f'GDP (bn $) and Life expectancy (yrs) in {china.Country.unique()}', fontsize=10)\n",
    "\n",
    "plt.subplot(3,2,3)\n",
    "sns.scatterplot(x='GDP', y='Life_expectancy', data=ger)\n",
    "plt.title(f'GDP (bn $) and Life expectancy (yrs) in {ger.Country.unique()}', fontsize=10)\n",
    "\n",
    "plt.subplot(3,2,4)\n",
    "sns.scatterplot(x='GDP', y='Life_expectancy', data=mex)\n",
    "plt.title(f'GDP (bn $) and Life expectancy (yrs) in {mex.Country.unique()}', fontsize=10)\n",
    "\n",
    "plt.subplot(3,2,5)\n",
    "sns.scatterplot(x='GDP', y='Life_expectancy', data=usa)\n",
    "plt.title(f'GDP (bn $) and Life expectancy (yrs) in {usa.Country.unique()}', fontsize=10)\n",
    "plt.xlim([12500, 17500])\n",
    "\n",
    "plt.subplot(3,2,6)\n",
    "sns.scatterplot(x='GDP', y='Life_expectancy', data=zimb)\n",
    "plt.title(f'GDP (bn $) and Life expectancy (yrs) in {zimb.Country.unique()}', fontsize=10)\n",
    "\n",
    "plt.subplots_adjust(wspace=0.4, hspace=0.4)\n",
    "plt.show()\n",
    "plt.clf()"
   ]
  },
  {
   "cell_type": "code",
   "execution_count": 32,
   "metadata": {},
   "outputs": [],
   "source": [
    "countries = [chile, china, ger, mex, usa, zimb]"
   ]
  },
  {
   "cell_type": "code",
   "execution_count": null,
   "metadata": {},
   "outputs": [],
   "source": [
    "for country in countries:\n",
    "    sns.scatterplot(x='GDP', y='Life_expectancy', data=country)\n",
    "    plt.title(f'GDP (bn $) and Life expectancy (yrs) in {country.Country.unique()[0]}')\n",
    "    plt.show()\n",
    "    plt.clf()"
   ]
  },
  {
   "cell_type": "code",
   "execution_count": 34,
   "metadata": {},
   "outputs": [],
   "source": [
    "import warnings\n",
    "warnings.filterwarnings(\"ignore\")"
   ]
  },
  {
   "cell_type": "code",
   "execution_count": null,
   "metadata": {},
   "outputs": [],
   "source": [
    "sns.pairplot(data=data, hue=\"Country\")\n",
    "plt.show()\n",
    "plt.clf()"
   ]
  },
  {
   "cell_type": "code",
   "execution_count": null,
   "metadata": {},
   "outputs": [],
   "source": [
    "sns.scatterplot(x='GDP', y='Life_expectancy', data=data, hue='Country')\n",
    "plt.title(f'GDP and Life expectancy in {data.Country.nunique()} countries')\n",
    "plt.xlabel('GDP (billion dollars)')\n",
    "plt.ylabel('Expected age (years)')\n",
    "plt.xticks(list(range(0,20000,5000)))\n",
    "plt.yticks(list(range(40,90,10)))\n",
    "plt.show()\n",
    "plt.clf()"
   ]
  },
  {
   "cell_type": "code",
   "execution_count": 37,
   "metadata": {},
   "outputs": [],
   "source": [
    "corr1, r1 = pearsonr(usa.GDP, usa.Life_expectancy)"
   ]
  },
  {
   "cell_type": "code",
   "execution_count": null,
   "metadata": {},
   "outputs": [],
   "source": [
    "print(f'''There is a strong positive relationship between the GDP and Life expectancy in the USA according to this plot.\n",
    "The correlation quotient is {corr1}.''')"
   ]
  },
  {
   "cell_type": "code",
   "execution_count": null,
   "metadata": {},
   "outputs": [],
   "source": [
    "np.corrcoef(usa.GDP, usa.Life_expectancy)[0,-1]"
   ]
  },
  {
   "cell_type": "code",
   "execution_count": 40,
   "metadata": {},
   "outputs": [],
   "source": [
    "corr_all, r_all = pearsonr(data.GDP, data.Life_expectancy)"
   ]
  },
  {
   "cell_type": "code",
   "execution_count": null,
   "metadata": {},
   "outputs": [],
   "source": [
    "print(f'''If we analyse the 6 countries there is also a positive linear relationship between the GDP and Life expectancy,\n",
    "because the correlation quotient is {corr_all}. This is a moderate relation.''')"
   ]
  },
  {
   "cell_type": "code",
   "execution_count": null,
   "metadata": {},
   "outputs": [],
   "source": [
    "np.mean(chile.Life_expectancy)\n"
   ]
  },
  {
   "cell_type": "code",
   "execution_count": null,
   "metadata": {},
   "outputs": [],
   "source": [
    "np.mean(china.Life_expectancy)"
   ]
  },
  {
   "cell_type": "code",
   "execution_count": null,
   "metadata": {},
   "outputs": [],
   "source": [
    "np.mean(ger.Life_expectancy)"
   ]
  },
  {
   "cell_type": "code",
   "execution_count": null,
   "metadata": {},
   "outputs": [],
   "source": [
    "np.mean(mex.Life_expectancy)"
   ]
  },
  {
   "cell_type": "code",
   "execution_count": null,
   "metadata": {},
   "outputs": [],
   "source": [
    "np.mean(usa.Life_expectancy)"
   ]
  },
  {
   "cell_type": "code",
   "execution_count": null,
   "metadata": {},
   "outputs": [],
   "source": [
    "np.mean(zimb.Life_expectancy)"
   ]
  },
  {
   "cell_type": "code",
   "execution_count": null,
   "metadata": {},
   "outputs": [],
   "source": [
    "for country in countries:\n",
    "    print(f'The average Life expectancy in years in {country.Country.unique()[0]} is {int(np.mean(country.Life_expectancy))}')"
   ]
  },
  {
   "cell_type": "code",
   "execution_count": null,
   "metadata": {},
   "outputs": [],
   "source": [
    "sns.displot(data.Life_expectancy, kde=True, color='darkblue')\n",
    "plt.title(f'Life expectancy in {data.Country.nunique()} countries in {data.Year.nunique()} years', fontsize = 12)\n",
    "plt.show()\n",
    "plt.clf()"
   ]
  },
  {
   "cell_type": "code",
   "execution_count": null,
   "metadata": {},
   "outputs": [],
   "source": [
    "print('''Conclusions:\n",
    "      \n",
    "1. There is a positive relationship between GDP and Life expectancy of one country, meaning that\n",
    "if the annual GDP grows, the expected age at birth will be also increasing regardless the country is\n",
    "developed or developing.\n",
    "2. The average expected ages are very close to each other of every nations in the sample except Zimbabwe.\n",
    "3. Both the annual GDP and the Life expectancy have increased during the overall period under examination.\n",
    "4. There are 2 significant increasings/outliers in the sample. The first one is the GDP of China, the second one\n",
    "is the Life expectancy in Zimbabwe.''')"
   ]
  },
  {
   "cell_type": "code",
   "execution_count": 51,
   "metadata": {},
   "outputs": [],
   "source": [
    "a = data.GDP[(data.Year == 2000) & (data.Country == 'China')].iloc[0]"
   ]
  },
  {
   "cell_type": "code",
   "execution_count": null,
   "metadata": {},
   "outputs": [],
   "source": [
    "a"
   ]
  },
  {
   "cell_type": "code",
   "execution_count": 53,
   "metadata": {},
   "outputs": [],
   "source": [
    "b = data.GDP[(data.Year == 2015) & (data.Country == 'China')].iloc[0]"
   ]
  },
  {
   "cell_type": "code",
   "execution_count": null,
   "metadata": {},
   "outputs": [],
   "source": [
    "b/a"
   ]
  },
  {
   "cell_type": "code",
   "execution_count": null,
   "metadata": {},
   "outputs": [],
   "source": []
  },
  {
   "cell_type": "code",
   "execution_count": null,
   "metadata": {},
   "outputs": [],
   "source": []
  }
 ],
 "metadata": {
  "kernelspec": {
   "display_name": "base",
   "language": "python",
   "name": "python3"
  },
  "language_info": {
   "codemirror_mode": {
    "name": "ipython",
    "version": 3
   },
   "file_extension": ".py",
   "mimetype": "text/x-python",
   "name": "python",
   "nbconvert_exporter": "python",
   "pygments_lexer": "ipython3",
   "version": "3.11.4"
  }
 },
 "nbformat": 4,
 "nbformat_minor": 4
}
