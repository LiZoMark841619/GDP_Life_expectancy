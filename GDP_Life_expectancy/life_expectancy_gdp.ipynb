{
 "cells": [
  {
   "cell_type": "code",
   "execution_count": 1,
   "metadata": {},
   "outputs": [],
   "source": [
    "import pandas as pd\n",
    "import numpy as np\n",
    "import matplotlib.pyplot as plt\n",
    "import seaborn as sns\n",
    "from scipy.stats import pearsonr"
   ]
  },
  {
   "cell_type": "code",
   "execution_count": null,
   "metadata": {},
   "outputs": [],
   "source": [
    "data = pd.read_csv('all_data.csv')"
   ]
  },
  {
   "cell_type": "code",
   "execution_count": null,
   "metadata": {},
   "outputs": [],
   "source": [
    "data.count()"
   ]
  },
  {
   "cell_type": "code",
   "execution_count": null,
   "metadata": {},
   "outputs": [],
   "source": [
    "maxrows = data.Country.count()\n",
    "print('Missing Data %')\n",
    "print(1 - data.count()/maxrows)"
   ]
  },
  {
   "cell_type": "code",
   "execution_count": null,
   "metadata": {},
   "outputs": [],
   "source": [
    "data.head()"
   ]
  },
  {
   "cell_type": "code",
   "execution_count": null,
   "metadata": {},
   "outputs": [],
   "source": [
    "data.columns = ['Country1', 'Year', 'Life_expectancy1', 'GDP']"
   ]
  },
  {
   "cell_type": "code",
   "execution_count": null,
   "metadata": {},
   "outputs": [],
   "source": [
    "data.columns"
   ]
  },
  {
   "cell_type": "code",
   "execution_count": null,
   "metadata": {},
   "outputs": [],
   "source": [
    "data = data.rename({'Country1':'Country', 'Life_expectancy1':'Life_expectancy'}, axis=1)"
   ]
  },
  {
   "cell_type": "code",
   "execution_count": null,
   "metadata": {},
   "outputs": [],
   "source": [
    "data.columns"
   ]
  },
  {
   "cell_type": "code",
   "execution_count": null,
   "metadata": {},
   "outputs": [],
   "source": [
    "data.dtypes"
   ]
  },
  {
   "cell_type": "code",
   "execution_count": null,
   "metadata": {},
   "outputs": [],
   "source": [
    "data.info()"
   ]
  },
  {
   "cell_type": "code",
   "execution_count": null,
   "metadata": {},
   "outputs": [],
   "source": [
    "data.GDP = data.GDP/1000000000"
   ]
  },
  {
   "cell_type": "code",
   "execution_count": null,
   "metadata": {},
   "outputs": [],
   "source": [
    "data.head()"
   ]
  },
  {
   "cell_type": "code",
   "execution_count": null,
   "metadata": {},
   "outputs": [],
   "source": [
    "print(f'''There are {data.Country.nunique()} countries in the sample and these are as follows:\n",
    "{data.Country.unique()}''')"
   ]
  },
  {
   "cell_type": "code",
   "execution_count": null,
   "metadata": {},
   "outputs": [],
   "source": [
    "data.Country.replace('United States of America', 'USA', inplace=True)"
   ]
  },
  {
   "cell_type": "code",
   "execution_count": null,
   "metadata": {},
   "outputs": [],
   "source": [
    "#data.Country.unique()"
   ]
  },
  {
   "cell_type": "code",
   "execution_count": null,
   "metadata": {},
   "outputs": [],
   "source": [
    "print(f'''The analysis starts from {np.min(data.Year)} and ends at {np.max(data.Year)} meaning that the dataset\n",
    "is including {data.Year.nunique()} consecutive years of GDP and Life expectancy data.''')"
   ]
  },
  {
   "cell_type": "code",
   "execution_count": null,
   "metadata": {},
   "outputs": [],
   "source": [
    "print(data.GDP.head())"
   ]
  },
  {
   "cell_type": "code",
   "execution_count": null,
   "metadata": {},
   "outputs": [],
   "source": [
    "plt.figure(figsize=[12, 6])\n",
    "plt.subplot(1,2,1)\n",
    "sns.barplot(x='Country', y='GDP', data=data[data.Year == np.min(data.Year)], palette='Spectral')\n",
    "plt.title(f'Countries and GDP-s in year {np.min(data.Year)}', fontsize=12)\n",
    "plt.xticks(rotation=30)\n",
    "plt.xlabel('Countries', fontsize=10)\n",
    "plt.ylabel('GDP (billion dollars)', fontsize=10)\n",
    "plt.subplot(1,2,2)\n",
    "sns.barplot(x='Country', y='GDP', data=data[data.Year == np.max(data.Year)], palette='Spectral')\n",
    "plt.title(f'Countries and GDP-s in year {np.max(data.Year)}', fontsize=11)\n",
    "plt.xticks(rotation=30)\n",
    "plt.xlabel('Countries', fontsize=10)\n",
    "plt.ylabel('GDP (billion dollars)', fontsize=10)\n",
    "plt.subplots_adjust(wspace=0.4)\n",
    "plt.show()\n",
    "plt.clf()"
   ]
  },
  {
   "cell_type": "code",
   "execution_count": null,
   "metadata": {},
   "outputs": [],
   "source": [
    "plt.figure(figsize=[12, 6])\n",
    "plt.subplot(1,2,1)\n",
    "sns.barplot(x='Country', y='Life_expectancy', data=data[data.Year == np.min(data.Year)], palette='rocket')\n",
    "plt.title(f'Countries and Life expectancy in {np.min(data.Year)}', fontsize=12)\n",
    "plt.xticks(rotation=30)\n",
    "plt.xlabel('Countries', fontsize=10)\n",
    "plt.ylabel('Expected age (years)', fontsize=10)\n",
    "plt.ylim([np.min(data.Life_expectancy), np.max(data.Life_expectancy)])\n",
    "plt.subplot(1,2,2)\n",
    "sns.barplot(x='Country', y='Life_expectancy', data=data[data.Year == np.max(data.Year)], palette='rocket')\n",
    "plt.title(f'Countries and Life expectancy in {np.max(data.Year)}', fontsize=12)\n",
    "plt.xticks(rotation=30)\n",
    "plt.xlabel('Countries', fontsize=10)\n",
    "plt.ylabel('Expected age (years)', fontsize=10)\n",
    "plt.ylim([np.min(data.Life_expectancy), np.max(data.Life_expectancy)])\n",
    "plt.subplots_adjust(wspace=0.4)\n",
    "plt.show()\n",
    "plt.clf()"
   ]
  },
  {
   "cell_type": "code",
   "execution_count": null,
   "metadata": {},
   "outputs": [],
   "source": [
    "plt.figure(figsize=[12, 6])\n",
    "plt.subplot(1,2,1)\n",
    "sns.lineplot(x='Year', y='GDP', hue='Country', data=data)\n",
    "plt.title(f'GDP over {data.Year.nunique()} years in {data.Country.nunique()} countries')\n",
    "plt.xlabel('Year')\n",
    "plt.ylabel('GDP (billion dollars)')\n",
    "xtick_val = [1998, 2002, 2006, 2010, 2014]\n",
    "ytick_val = [0, 2500, 7500, 12500, 17500]\n",
    "plt.xticks(xtick_val, rotation=25)\n",
    "plt.yticks(ytick_val)\n",
    "plt.subplot(1,2,2)\n",
    "sns.lineplot(x='Year', y='Life_expectancy', hue='Country', data=data)\n",
    "plt.title(f'Life expectancy over {data.Year.nunique()} years in {data.Country.nunique()} countries')\n",
    "plt.xlabel('Year', fontsize=10)\n",
    "plt.ylabel('Expected age (years)')\n",
    "xtick_val = [1998, 2002, 2006, 2010, 2014]\n",
    "ytick_val = [50, 60, 70, 80]\n",
    "plt.xticks(xtick_val, rotation=25)\n",
    "plt.yticks(ytick_val)\n",
    "plt.subplots_adjust(wspace=0.2)\n",
    "plt.show()\n",
    "plt.clf()"
   ]
  },
  {
   "cell_type": "code",
   "execution_count": null,
   "metadata": {},
   "outputs": [],
   "source": [
    "chile = data[data.Country == 'Chile']\n",
    "china = data[data.Country == 'China']\n",
    "ger = data[data.Country == 'Germany']\n",
    "mex = data[data.Country == 'Mexico']\n",
    "usa = data[data.Country == 'USA']\n",
    "zimb = data[data.Country == 'Zimbabwe']"
   ]
  },
  {
   "cell_type": "code",
   "execution_count": null,
   "metadata": {},
   "outputs": [],
   "source": [
    "plt.figure(figsize=[12, 18])\n",
    "\n",
    "plt.subplot(3,2,1)\n",
    "sns.scatterplot(x='GDP', y='Life_expectancy', data=chile)\n",
    "plt.title(f'GDP (bn $) and Life expectancy (yrs) in {chile.Country.unique()}', fontsize=10)\n",
    "\n",
    "plt.subplot(3,2,2)\n",
    "sns.scatterplot(x='GDP', y='Life_expectancy', data=china)\n",
    "plt.title(f'GDP (bn $) and Life expectancy (yrs) in {china.Country.unique()}', fontsize=10)\n",
    "\n",
    "plt.subplot(3,2,3)\n",
    "sns.scatterplot(x='GDP', y='Life_expectancy', data=ger)\n",
    "plt.title(f'GDP (bn $) and Life expectancy (yrs) in {ger.Country.unique()}', fontsize=10)\n",
    "\n",
    "plt.subplot(3,2,4)\n",
    "sns.scatterplot(x='GDP', y='Life_expectancy', data=mex)\n",
    "plt.title(f'GDP (bn $) and Life expectancy (yrs) in {mex.Country.unique()}', fontsize=10)\n",
    "\n",
    "plt.subplot(3,2,5)\n",
    "sns.scatterplot(x='GDP', y='Life_expectancy', data=usa)\n",
    "plt.title(f'GDP (bn $) and Life expectancy (yrs) in {usa.Country.unique()}', fontsize=10)\n",
    "plt.xlim([12500, 17500])\n",
    "\n",
    "plt.subplot(3,2,6)\n",
    "sns.scatterplot(x='GDP', y='Life_expectancy', data=zimb)\n",
    "plt.title(f'GDP (bn $) and Life expectancy (yrs) in {zimb.Country.unique()}', fontsize=10)\n",
    "\n",
    "plt.subplots_adjust(wspace=0.4, hspace=0.4)\n",
    "plt.show()\n",
    "plt.clf()"
   ]
  },
  {
   "cell_type": "code",
   "execution_count": null,
   "metadata": {},
   "outputs": [],
   "source": [
    "countries = [chile, china, ger, mex, usa, zimb]"
   ]
  },
  {
   "cell_type": "code",
   "execution_count": null,
   "metadata": {},
   "outputs": [],
   "source": [
    "for country in countries:\n",
    "    sns.scatterplot(x='GDP', y='Life_expectancy', data=country)\n",
    "    plt.title(f'GDP (bn $) and Life expectancy (yrs) in {country.Country.unique()[0]}')\n",
    "    plt.show()\n",
    "    plt.clf()"
   ]
  },
  {
   "cell_type": "code",
   "execution_count": null,
   "metadata": {},
   "outputs": [],
   "source": [
    "import warnings\n",
    "warnings.filterwarnings(\"ignore\")"
   ]
  },
  {
   "cell_type": "code",
   "execution_count": null,
   "metadata": {},
   "outputs": [],
   "source": [
    "sns.pairplot(data=data, hue=\"Country\")\n",
    "plt.show()\n",
    "plt.clf()"
   ]
  },
  {
   "cell_type": "code",
   "execution_count": null,
   "metadata": {},
   "outputs": [],
   "source": [
    "sns.scatterplot(x='GDP', y='Life_expectancy', data=data, hue='Country')\n",
    "plt.title(f'GDP and Life expectancy in {data.Country.nunique()} countries')\n",
    "plt.xlabel('GDP (billion dollars)')\n",
    "plt.ylabel('Expected age (years)')\n",
    "plt.xticks(list(range(0,20000,5000)))\n",
    "plt.yticks(list(range(40,90,10)))\n",
    "plt.show()\n",
    "plt.clf()"
   ]
  },
  {
   "cell_type": "code",
   "execution_count": null,
   "metadata": {},
   "outputs": [],
   "source": [
    "corr1, r1 = pearsonr(usa.GDP, usa.Life_expectancy)"
   ]
  },
  {
   "cell_type": "code",
   "execution_count": null,
   "metadata": {},
   "outputs": [],
   "source": [
    "print(f'''There is a strong positive relationship between the GDP and Life expectancy in the USA according to this plot.\n",
    "The correlation quotient is {corr1}.''')"
   ]
  },
  {
   "cell_type": "code",
   "execution_count": null,
   "metadata": {},
   "outputs": [],
   "source": [
    "np.corrcoef(usa.GDP, usa.Life_expectancy)[0,-1]"
   ]
  },
  {
   "cell_type": "code",
   "execution_count": null,
   "metadata": {},
   "outputs": [],
   "source": [
    "corr_all, r_all = pearsonr(data.GDP, data.Life_expectancy)"
   ]
  },
  {
   "cell_type": "code",
   "execution_count": null,
   "metadata": {},
   "outputs": [],
   "source": [
    "print(f'''If we analyse the 6 countries there is also a positive linear relationship between the GDP and Life expectancy,\n",
    "because the correlation quotient is {corr_all}. This is a moderate relation.''')"
   ]
  },
  {
   "cell_type": "code",
   "execution_count": null,
   "metadata": {},
   "outputs": [],
   "source": [
    "np.mean(chile.Life_expectancy)\n"
   ]
  },
  {
   "cell_type": "code",
   "execution_count": null,
   "metadata": {},
   "outputs": [],
   "source": [
    "np.mean(china.Life_expectancy)"
   ]
  },
  {
   "cell_type": "code",
   "execution_count": null,
   "metadata": {},
   "outputs": [],
   "source": [
    "np.mean(ger.Life_expectancy)"
   ]
  },
  {
   "cell_type": "code",
   "execution_count": null,
   "metadata": {},
   "outputs": [],
   "source": [
    "np.mean(mex.Life_expectancy)"
   ]
  },
  {
   "cell_type": "code",
   "execution_count": null,
   "metadata": {},
   "outputs": [],
   "source": [
    "np.mean(usa.Life_expectancy)"
   ]
  },
  {
   "cell_type": "code",
   "execution_count": null,
   "metadata": {},
   "outputs": [],
   "source": [
    "np.mean(zimb.Life_expectancy)"
   ]
  },
  {
   "cell_type": "code",
   "execution_count": null,
   "metadata": {},
   "outputs": [],
   "source": [
    "for country in countries:\n",
    "    print(f'The average Life expectancy in years in {country.Country.unique()[0]} is {int(np.mean(country.Life_expectancy))}')"
   ]
  },
  {
   "cell_type": "code",
   "execution_count": null,
   "metadata": {},
   "outputs": [],
   "source": [
    "sns.displot(data.Life_expectancy, kde=True, color='darkblue')\n",
    "plt.title(f'Life expectancy in {data.Country.nunique()} countries in {data.Year.nunique()} years', fontsize = 12)\n",
    "plt.show()\n",
    "plt.clf()"
   ]
  },
  {
   "cell_type": "code",
   "execution_count": null,
   "metadata": {},
   "outputs": [],
   "source": [
    "print('''Conclusions:\n",
    "      \n",
    "1. There is a positive relationship between GDP and Life expectancy of one country, meaning that\n",
    "if the annual GDP grows, the expected age at birth will be also increasing regardless the country is\n",
    "developed or developing.\n",
    "2. The average expected ages are very close to each other of every nations in the sample except Zimbabwe.\n",
    "3. Both the annual GDP and the Life expectancy have increased during the overall period under examination.\n",
    "4. There are 2 significant increasings/outliers in the sample. The first one is the GDP of China, the second one\n",
    "is the Life expectancy in Zimbabwe.''')"
   ]
  },
  {
   "cell_type": "code",
   "execution_count": null,
   "metadata": {},
   "outputs": [],
   "source": [
    "a = data.GDP[(data.Year == 2000) & (data.Country == 'China')].iloc[0]"
   ]
  },
  {
   "cell_type": "code",
   "execution_count": null,
   "metadata": {},
   "outputs": [],
   "source": [
    "a"
   ]
  },
  {
   "cell_type": "code",
   "execution_count": null,
   "metadata": {},
   "outputs": [],
   "source": [
    "b = data.GDP[(data.Year == 2015) & (data.Country == 'China')].iloc[0]"
   ]
  },
  {
   "cell_type": "code",
   "execution_count": null,
   "metadata": {},
   "outputs": [],
   "source": [
    "b/a"
   ]
  },
  {
   "cell_type": "code",
   "execution_count": null,
   "metadata": {},
   "outputs": [],
   "source": []
  },
  {
   "cell_type": "code",
   "execution_count": null,
   "metadata": {},
   "outputs": [],
   "source": []
  }
 ],
 "metadata": {
  "kernelspec": {
   "display_name": "Python 3 (ipykernel)",
   "language": "python",
   "name": "python3"
  },
  "language_info": {
   "codemirror_mode": {
    "name": "ipython",
    "version": 3
   },
   "file_extension": ".py",
   "mimetype": "text/x-python",
   "name": "python",
   "nbconvert_exporter": "python",
   "pygments_lexer": "ipython3",
   "version": "3.11.4"
  }
 },
 "nbformat": 4,
 "nbformat_minor": 4
}
